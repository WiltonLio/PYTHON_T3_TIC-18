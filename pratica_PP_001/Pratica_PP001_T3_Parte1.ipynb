{
 "cells": [
  {
   "cell_type": "markdown",
   "metadata": {},
   "source": [
    "### Exercício 2 - Manipulação de variáveis de tipo inteiro, explorando as características e os limites."
   ]
  },
  {
   "cell_type": "markdown",
   "metadata": {},
   "source": [
    "---\n",
    "Operadores Aritméticos em Python: Uma Visão Detalhada\n",
    "\n",
    "Em Python, os operadores aritméticos básicos desempenham funções fundamentais na manipulação de valores. Aqui estão os principais operadores e suas funcionalidades:\n",
    "* Adição (+): Realiza a soma de dois valores.\n",
    "* Subtração (-): Realiza a subtração de dois valores.\n",
    "* Multiplicação (): Realiza a multiplicação de dois valores.\n",
    "* Divisão (/): Realiza a divisão de dois valores, retornando um número de ponto flutuante.\n",
    "* Divisão Inteira (//): Realiza a divisão de dois valores, retornando um número inteiro.\n",
    "* Módulo/Resto (%): Retorna o resto da divisão entre dois valores.\n",
    "* Exponenciação (): Realiza a potenciação de um valor pelo outro.\n",
    "\n",
    "Além desses operadores básicos, Python oferece operadores aritméticos compostos, combinando operações aritméticas com atribuições:\n",
    "* Adição e Atribuição (+=): Incrementa o valor da variável com o valor especificado.\n",
    "* Subtração e Atribuição (-=): Decrementa o valor da variável com o valor especificado.\n",
    "* Multiplicação e Atribuição (*=): Multiplica o valor da variável pelo valor especificado.\n",
    "* Divisão e Atribuição (/=): Divide o valor da variável pelo valor especificado.\n",
    "* Divisão Inteira e Atribuição (//=): Divide o valor da variável pelo valor especificado, arredondando para baixo.\n",
    "* Módulo/Resto e Atribuição (%=): Retorna o resto da divisão entre o valor da variável e o valor especificado.\n",
    "* Exponenciação e Atribuição (**=): Eleva o valor da variável à potência do valor especificado.\n",
    "\n",
    "Diferenças Notáveis com C/C++: \\\n",
    "\\\n",
    "*Em Python, o operador / sempre retorna um número de ponto flutuante, mesmo para divisão entre inteiros. Em C/C++, a divisão entre inteiros resulta em um número inteiro.*\n",
    "*O operador // em Python realiza divisão inteira, retornando um número inteiro arredondado para baixo. Em C/C++, / é usado para divisão inteira, e % para o resto.*\n",
    "*Python utiliza ** para exponenciação, enquanto em C/C++ é necessário usar funções de bibliotecas, como pow().*\n",
    "\n",
    "Essas são algumas das diferenças-chave entre os operadores aritméticos em Python e em C/C++. Essa compreensão é essencial ao migrar ou comparar códigos entre essas linguagens."
   ]
  },
  {
   "cell_type": "markdown",
   "metadata": {
    "slideshow": {
     "slide_type": "notes"
    }
   },
   "source": [
    "Operador de Adição"
   ]
  },
  {
   "cell_type": "code",
   "execution_count": 1,
   "metadata": {},
   "outputs": [
    {
     "name": "stdout",
     "output_type": "stream",
     "text": [
      "Demonstrando operador de adição\n",
      "Valores 2 e 3\n",
      "A soma éigual à 5\n"
     ]
    }
   ],
   "source": [
    "print(\"Demonstrando operador de adição\")\n",
    "a = 2\n",
    "b = 3\n",
    "resultado = a + b\n",
    "print(f\"Valores {a} e {b}\")\n",
    "print(f\"A soma éigual à {resultado}\")"
   ]
  },
  {
   "cell_type": "markdown",
   "metadata": {},
   "source": [
    "Operador de Subtração"
   ]
  },
  {
   "cell_type": "code",
   "execution_count": 3,
   "metadata": {},
   "outputs": [
    {
     "name": "stdout",
     "output_type": "stream",
     "text": [
      "Demonstrando operador de subtração\n",
      "Valores 2 e 3\n",
      "A subtração é igual à -1\n"
     ]
    }
   ],
   "source": [
    "print(\"Demonstrando operador de subtração\")\n",
    "a = 2\n",
    "b = 3\n",
    "resultado = a - b\n",
    "print(f\"Valores {a} e {b}\")\n",
    "print(f\"A subtração é igual à {resultado}\")"
   ]
  },
  {
   "cell_type": "markdown",
   "metadata": {
    "slideshow": {
     "slide_type": "notes"
    }
   },
   "source": [
    "Operador de Multiplicação"
   ]
  },
  {
   "cell_type": "code",
   "execution_count": 9,
   "metadata": {},
   "outputs": [
    {
     "name": "stdout",
     "output_type": "stream",
     "text": [
      "Demonstrando operador de multiplicação\n",
      "Valores 2 e 3\n",
      "A multiplicação é igual à 6\n"
     ]
    }
   ],
   "source": [
    "print(\"Demonstrando operador de multiplicação\")\n",
    "a = 2\n",
    "b = 3\n",
    "resultado = a * b\n",
    "print(f\"Valores {a} e {b}\")\n",
    "print(f\"A multiplicação é igual à {resultado}\")"
   ]
  },
  {
   "cell_type": "markdown",
   "metadata": {},
   "source": [
    "Operador de Divisão"
   ]
  },
  {
   "cell_type": "code",
   "execution_count": 4,
   "metadata": {},
   "outputs": [
    {
     "name": "stdout",
     "output_type": "stream",
     "text": [
      "Demonstrando operador de divisão\n",
      "Valores 2 e 4\n",
      "A divisão é igual à 0.5\n",
      "E a divisão truncada é igual à 0\n"
     ]
    }
   ],
   "source": [
    "print(\"Demonstrando operador de divisão\")\n",
    "a = 2\n",
    "b = 4\n",
    "if b == 0 :\n",
    "     print(\"A divisão por 0 é impossível\")\n",
    "else :\n",
    "    resultado1 = a / b\n",
    "    resultado2 = a // b\n",
    "    print(f\"Valores {a} e {b}\")\n",
    "    print(f\"A divisão é igual à {resultado1}\")\n",
    "    print (f\"E a divisão truncada é igual à {resultado2}\") "
   ]
  },
  {
   "cell_type": "markdown",
   "metadata": {},
   "source": [
    "Demonstração de operador Módulo/Resto"
   ]
  },
  {
   "cell_type": "code",
   "execution_count": 8,
   "metadata": {},
   "outputs": [
    {
     "name": "stdout",
     "output_type": "stream",
     "text": [
      "5 % 3 = 2\n"
     ]
    }
   ],
   "source": [
    "a = 5\n",
    "b = 3\n",
    "resultado = a % b\n",
    "print(f\"{a} % {b} = {resultado}\") "
   ]
  },
  {
   "cell_type": "markdown",
   "metadata": {
    "slideshow": {
     "slide_type": "notes"
    }
   },
   "source": [
    "Demonstração de operador Exponenciação"
   ]
  },
  {
   "cell_type": "code",
   "execution_count": 6,
   "metadata": {},
   "outputs": [
    {
     "name": "stdout",
     "output_type": "stream",
     "text": [
      "5 ** 3 = 125\n"
     ]
    }
   ],
   "source": [
    "a = 5\n",
    "b = 3\n",
    "resultado = a ** b\n",
    "print(f\"{a} ** {b} = {resultado}\")"
   ]
  },
  {
   "cell_type": "markdown",
   "metadata": {},
   "source": [
    "Demonstração de operador Adição e atribuição"
   ]
  },
  {
   "cell_type": "code",
   "execution_count": 7,
   "metadata": {},
   "outputs": [
    {
     "name": "stdout",
     "output_type": "stream",
     "text": [
      "a += 3 => a = 8\n"
     ]
    }
   ],
   "source": [
    "a = 5\n",
    "b = 3\n",
    "a += b\n",
    "print(f\"a += {b} => a = {a}\")"
   ]
  },
  {
   "cell_type": "markdown",
   "metadata": {},
   "source": [
    "Demonstração de operador Subtração e atribuição"
   ]
  },
  {
   "cell_type": "code",
   "execution_count": 18,
   "metadata": {},
   "outputs": [
    {
     "name": "stdout",
     "output_type": "stream",
     "text": [
      "a -= 3 => a = 2\n"
     ]
    }
   ],
   "source": [
    "a = 5\n",
    "b = 3\n",
    "a -= b\n",
    "print(f\"a -= {b} => a = {a}\") "
   ]
  },
  {
   "cell_type": "markdown",
   "metadata": {},
   "source": [
    "Demonstração de operador de Multiplicação e atribuição"
   ]
  },
  {
   "cell_type": "code",
   "execution_count": 17,
   "metadata": {},
   "outputs": [
    {
     "name": "stdout",
     "output_type": "stream",
     "text": [
      "a *= 3 => a = 15\n"
     ]
    }
   ],
   "source": [
    "a = 5\n",
    "b = 3\n",
    "a *= b\n",
    "print(f\"a *= {b} => a = {a}\") "
   ]
  },
  {
   "cell_type": "markdown",
   "metadata": {},
   "source": [
    "Demonstração de operador de Divisão e atribuição"
   ]
  },
  {
   "cell_type": "code",
   "execution_count": 16,
   "metadata": {},
   "outputs": [
    {
     "name": "stdout",
     "output_type": "stream",
     "text": [
      "a /= 3 => a = 1.6666666666666667\n"
     ]
    }
   ],
   "source": [
    "a = 5\n",
    "b = 3\n",
    "a /= b\n",
    "print(f\"a /= {b} => a = {a}\")"
   ]
  },
  {
   "cell_type": "markdown",
   "metadata": {},
   "source": [
    "Demonstração de operador de Divisão inteira e atribuição"
   ]
  },
  {
   "cell_type": "code",
   "execution_count": 15,
   "metadata": {},
   "outputs": [
    {
     "name": "stdout",
     "output_type": "stream",
     "text": [
      "a //= 3 => a = 1\n"
     ]
    }
   ],
   "source": [
    "a = 5\n",
    "b = 3\n",
    "a //= b\n",
    "print(f\"a //= {b} => a = {a}\")"
   ]
  },
  {
   "cell_type": "markdown",
   "metadata": {},
   "source": [
    "Demonstração de operador Módulo/Resto e atribuição"
   ]
  },
  {
   "cell_type": "code",
   "execution_count": 13,
   "metadata": {},
   "outputs": [
    {
     "name": "stdout",
     "output_type": "stream",
     "text": [
      "a %= 3 => a = 2\n"
     ]
    }
   ],
   "source": [
    "a = 5\n",
    "b = 3\n",
    "a %= b\n",
    "print(f\"a %= {b} => a = {a}\") "
   ]
  },
  {
   "cell_type": "markdown",
   "metadata": {},
   "source": [
    "Demonstração de operador de Exponenciação e atribuição"
   ]
  },
  {
   "cell_type": "code",
   "execution_count": 12,
   "metadata": {},
   "outputs": [
    {
     "name": "stdout",
     "output_type": "stream",
     "text": [
      "a **= 3 => a = 125\n",
      "\n",
      "\n"
     ]
    }
   ],
   "source": [
    "a = 5\n",
    "b = 3\n",
    "a **= b\n",
    "print(f\"a **= {b} => a = {a}\\n\\n\") "
   ]
  },
  {
   "cell_type": "markdown",
   "metadata": {},
   "source": [
    "Demonstração de calculo fatorial. \\\n",
    "Fatorando o número 30"
   ]
  },
  {
   "cell_type": "code",
   "execution_count": 19,
   "metadata": {},
   "outputs": [
    {
     "name": "stdout",
     "output_type": "stream",
     "text": [
      "O fatorial de 30 é 265252859812191058636308480000000\n",
      "O maior valor inteiro representável em C/C++ é: 2147483647\n",
      "\n",
      "\n"
     ]
    }
   ],
   "source": [
    "def fatorial(n):\n",
    "    resultado = 1\n",
    "    for i in range(1, n + 1):\n",
    "        resultado *= i\n",
    "    return resultado\n",
    "\n",
    "numero = 30\n",
    "resultado_fatorial = fatorial(numero)\n",
    "print(f\"O fatorial de {numero} é {resultado_fatorial}\")\n",
    "\n",
    "# Maior valor inteiro representável em C/C++\n",
    "max_int_c_cpp = 2**31 - 1\n",
    "print(f'O maior valor inteiro representável em C/C++ é: {max_int_c_cpp}\\n\\n')"
   ]
  },
  {
   "cell_type": "markdown",
   "metadata": {},
   "source": [
    "Demonstração variáveis (numéricas) imutáveis"
   ]
  },
  {
   "cell_type": "code",
   "execution_count": 20,
   "metadata": {},
   "outputs": [
    {
     "name": "stdout",
     "output_type": "stream",
     "text": [
      "Os valores das variáveis 'a' e 'b' são, respectivamente, 10 e 10\n",
      "Após tentativa de alteração, os valores de 'a' e 'b' são, respectivamente, 10 e 15\n"
     ]
    }
   ],
   "source": [
    "a = 10\n",
    "b = a\n",
    "print(f\"Os valores das variáveis 'a' e 'b' são, respectivamente, {a} e {b}\")\n",
    "# Alterando valor de 'b' e verificando efeito sobre 'a'\n",
    "b = 15\n",
    "print(f\"Após tentativa de alteração, os valores de 'a' e 'b' são, respectivamente, {a} e {b}\")"
   ]
  },
  {
   "cell_type": "markdown",
   "metadata": {},
   "source": [
    "Demonstração variáveis (listas) mutáveis"
   ]
  },
  {
   "cell_type": "code",
   "execution_count": null,
   "metadata": {},
   "outputs": [],
   "source": [
    "lista_a = [1, 2, 3]\n",
    "lista_b = lista_a\n",
    "print(f\"\\nAs listas Lista_A e Lista_B são respectivamente {lista_a} e {lista_b}\")\n",
    "# Alterando valor de 'lista_b' e verificando efeito sobre 'lista_a'\n",
    "lista_b[0] = 99\n",
    "print(f\"Após alteração na lista B, os valores de Lista_A e Lista_B são respectivamente {lista_a} e {lista_b}\")"
   ]
  },
  {
   "cell_type": "markdown",
   "metadata": {},
   "source": [
    "Alguns métodos incorporados específicos de objetos int em Python, são:"
   ]
  },
  {
   "cell_type": "markdown",
   "metadata": {},
   "source": [
    "- bit_length(): Retorna o número de bits necessários para representar o número binário, excluindo o sinal e os zeros à esquerda.\n",
    "- to_bytes(length, byteorder, *, signed=False): Converte o número para uma sequência de bytes.\n",
    "- from_bytes(bytes, byteorder, *, signed=False): Converte uma sequência de bytes de volta para um número.\n",
    "- Além destes, pode-se obter mais informações utilizando o comando abaixo no terminal:\n",
    "\n",
    "```python    \n",
    "python -c \"help(int)\"\n",
    "```"
   ]
  },
  {
   "cell_type": "markdown",
   "metadata": {},
   "source": [
    "Usando função dir para obter atributos e métodos de um objeto"
   ]
  },
  {
   "cell_type": "code",
   "execution_count": 21,
   "metadata": {},
   "outputs": [
    {
     "name": "stdout",
     "output_type": "stream",
     "text": [
      "A lista de atributos de métodos para tipo inteiro: \n"
     ]
    },
    {
     "data": {
      "text/plain": [
       "['__abs__',\n",
       " '__add__',\n",
       " '__and__',\n",
       " '__bool__',\n",
       " '__ceil__',\n",
       " '__class__',\n",
       " '__delattr__',\n",
       " '__dir__',\n",
       " '__divmod__',\n",
       " '__doc__',\n",
       " '__eq__',\n",
       " '__float__',\n",
       " '__floor__',\n",
       " '__floordiv__',\n",
       " '__format__',\n",
       " '__ge__',\n",
       " '__getattribute__',\n",
       " '__getnewargs__',\n",
       " '__getstate__',\n",
       " '__gt__',\n",
       " '__hash__',\n",
       " '__index__',\n",
       " '__init__',\n",
       " '__init_subclass__',\n",
       " '__int__',\n",
       " '__invert__',\n",
       " '__le__',\n",
       " '__lshift__',\n",
       " '__lt__',\n",
       " '__mod__',\n",
       " '__mul__',\n",
       " '__ne__',\n",
       " '__neg__',\n",
       " '__new__',\n",
       " '__or__',\n",
       " '__pos__',\n",
       " '__pow__',\n",
       " '__radd__',\n",
       " '__rand__',\n",
       " '__rdivmod__',\n",
       " '__reduce__',\n",
       " '__reduce_ex__',\n",
       " '__repr__',\n",
       " '__rfloordiv__',\n",
       " '__rlshift__',\n",
       " '__rmod__',\n",
       " '__rmul__',\n",
       " '__ror__',\n",
       " '__round__',\n",
       " '__rpow__',\n",
       " '__rrshift__',\n",
       " '__rshift__',\n",
       " '__rsub__',\n",
       " '__rtruediv__',\n",
       " '__rxor__',\n",
       " '__setattr__',\n",
       " '__sizeof__',\n",
       " '__str__',\n",
       " '__sub__',\n",
       " '__subclasshook__',\n",
       " '__truediv__',\n",
       " '__trunc__',\n",
       " '__xor__',\n",
       " 'as_integer_ratio',\n",
       " 'bit_count',\n",
       " 'bit_length',\n",
       " 'conjugate',\n",
       " 'denominator',\n",
       " 'from_bytes',\n",
       " 'imag',\n",
       " 'numerator',\n",
       " 'real',\n",
       " 'to_bytes']"
      ]
     },
     "execution_count": 21,
     "metadata": {},
     "output_type": "execute_result"
    }
   ],
   "source": [
    "print(\"A lista de atributos de métodos para tipo inteiro: \")\n",
    "dir(int)"
   ]
  },
  {
   "cell_type": "markdown",
   "metadata": {},
   "source": [
    "### Questão 3. Escreva um programa em Python que: "
   ]
  },
  {
   "cell_type": "markdown",
   "metadata": {},
   "source": [
    "- Imprima na tela, utilizando print, cada um dos caracteres numéricos e seu correspondente código numérico. Pesquise como modificar o comportamento  do print para imprimir como caractere e como número.\n",
    "Exemplo:‘0’ - 48\n",
    "‘1’ - 49\n",
    "    …\n",
    "‘9’ - 57\n",
    "- Modifique o exercício anterior para que a saída imprima também o código numérico em octal e em hexadecimal.\n",
    "- Acrescente ao código do exercício anterior a possibilidade de ler um caractere qualquer e imprima no mesmo formato do inciso anterior.\n",
    "- Pesquise como ler um valor da entrada padrão.\n",
    "- Pesquise como trabalha Python os caracteres especiais, ‘ç’ e ‘ã’ por exemplo. Acrescente no código do exercício anterior um exemplo que demonstra como usar este recurso."
   ]
  },
  {
   "cell_type": "markdown",
   "metadata": {},
   "source": [
    "##### Demonstração:"
   ]
  },
  {
   "cell_type": "code",
   "execution_count": 25,
   "metadata": {},
   "outputs": [
    {
     "name": "stdout",
     "output_type": "stream",
     "text": [
      "Imprimindo caracteres numéricos:\n",
      "'0' - 48\n",
      "   Octal: 0o60\n",
      "   Hexadecimal: 0x30\n",
      "\n",
      "'1' - 49\n",
      "   Octal: 0o61\n",
      "   Hexadecimal: 0x31\n",
      "\n",
      "'2' - 50\n",
      "   Octal: 0o62\n",
      "   Hexadecimal: 0x32\n",
      "\n",
      "'3' - 51\n",
      "   Octal: 0o63\n",
      "   Hexadecimal: 0x33\n",
      "\n",
      "'4' - 52\n",
      "   Octal: 0o64\n",
      "   Hexadecimal: 0x34\n",
      "\n",
      "'5' - 53\n",
      "   Octal: 0o65\n",
      "   Hexadecimal: 0x35\n",
      "\n",
      "'6' - 54\n",
      "   Octal: 0o66\n",
      "   Hexadecimal: 0x36\n",
      "\n",
      "'7' - 55\n",
      "   Octal: 0o67\n",
      "   Hexadecimal: 0x37\n",
      "\n",
      "'8' - 56\n",
      "   Octal: 0o70\n",
      "   Hexadecimal: 0x38\n",
      "\n",
      "'9' - 57\n",
      "   Octal: 0o71\n",
      "   Hexadecimal: 0x39\n",
      "\n",
      "\n",
      "Imprimindo o caractere digitado:\n",
      "'ç' - 231\n",
      "   Octal: 0o347\n",
      "   Hexadecimal: 0xe7\n"
     ]
    }
   ],
   "source": [
    "def print_numeric_characters():\n",
    "    for i in range(10):\n",
    "        char = str(i)\n",
    "        print(f\"'{char}' - {ord(char)}\")\n",
    "        print(f\"   Octal: {oct(ord(char))}\")\n",
    "        print(f\"   Hexadecimal: {hex(ord(char))}\")\n",
    "        print()\n",
    "\n",
    "def print_custom_character(char):\n",
    "    print(f\"'{char}' - {ord(char)}\")\n",
    "    print(f\"   Octal: {oct(ord(char))}\")\n",
    "    print(f\"   Hexadecimal: {hex(ord(char))}\")\n",
    "    \n",
    "def main():\n",
    "    print(\"Imprimindo caracteres numéricos:\")\n",
    "    print_numeric_characters()\n",
    "\n",
    "    user_input = input(\"\\nDigite um caractere: \")\n",
    "    print(\"\\nImprimindo o caractere digitado:\")\n",
    "    print_custom_character(user_input)\n",
    "\n",
    "if __name__ == \"__main__\":\n",
    "    main()\n",
    "\n"
   ]
  },
  {
   "cell_type": "code",
   "execution_count": 24,
   "metadata": {},
   "outputs": [
    {
     "name": "stdout",
     "output_type": "stream",
     "text": [
      "\n",
      "Exemplo de caracteres especiais:\n",
      "'ç' - 231\n",
      "   Octal: 0o347\n",
      "   Hexadecimal: 0xe7\n",
      "'ã' - 227\n",
      "   Octal: 0o343\n",
      "   Hexadecimal: 0xe3\n"
     ]
    }
   ],
   "source": [
    "def print_custom_character(char):\n",
    "    print(f\"'{char}' - {ord(char)}\")\n",
    "    print(f\"   Octal: {oct(ord(char))}\")\n",
    "    print(f\"   Hexadecimal: {hex(ord(char))}\")\n",
    "    \n",
    "def main():\n",
    "    # Exemplo de caracteres especiais\n",
    "    special_char1 = 'ç'\n",
    "    special_char2 = 'ã'\n",
    "    print(\"\\nExemplo de caracteres especiais:\")\n",
    "    print_custom_character(special_char1)\n",
    "    print_custom_character(special_char2)\n",
    "\n",
    "if __name__ == \"__main__\":\n",
    "    main()"
   ]
  }
 ],
 "metadata": {
  "kernelspec": {
   "display_name": "Python 3",
   "language": "python",
   "name": "python3"
  },
  "language_info": {
   "codemirror_mode": {
    "name": "ipython",
    "version": 3
   },
   "file_extension": ".py",
   "mimetype": "text/x-python",
   "name": "python",
   "nbconvert_exporter": "python",
   "pygments_lexer": "ipython3",
   "version": "3.11.5"
  }
 },
 "nbformat": 4,
 "nbformat_minor": 2
}
