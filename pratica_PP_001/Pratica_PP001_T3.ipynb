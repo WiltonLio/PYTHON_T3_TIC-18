{
 "cells": [
  {
   "cell_type": "markdown",
   "metadata": {},
   "source": [
    "## INSTRUÇÃO PRÁTICA\n",
    "---\n",
    "### Exercício 2 - Manipulação de variáveis de tipo inteiro, explorando as características e os limites."
   ]
  },
  {
   "cell_type": "markdown",
   "metadata": {},
   "source": [
    "Operadores Aritméticos em Python: Uma Visão Detalhada\n",
    "\n",
    "Em Python, os operadores aritméticos básicos desempenham funções fundamentais na manipulação de valores. Aqui estão os principais operadores e suas funcionalidades:\n",
    "* Adição (+): Realiza a soma de dois valores.\n",
    "* Subtração (-): Realiza a subtração de dois valores.\n",
    "* Multiplicação (): Realiza a multiplicação de dois valores.\n",
    "* Divisão (/): Realiza a divisão de dois valores, retornando um número de ponto flutuante.\n",
    "* Divisão Inteira (//): Realiza a divisão de dois valores, retornando um número inteiro.\n",
    "* Módulo/Resto (%): Retorna o resto da divisão entre dois valores.\n",
    "* Exponenciação (): Realiza a potenciação de um valor pelo outro.\n",
    "\n",
    "Além desses operadores básicos, Python oferece operadores aritméticos compostos, combinando operações aritméticas com atribuições:\n",
    "* Adição e Atribuição (+=): Incrementa o valor da variável com o valor especificado.\n",
    "* Subtração e Atribuição (-=): Decrementa o valor da variável com o valor especificado.\n",
    "* Multiplicação e Atribuição (*=): Multiplica o valor da variável pelo valor especificado.\n",
    "* Divisão e Atribuição (/=): Divide o valor da variável pelo valor especificado.\n",
    "* Divisão Inteira e Atribuição (//=): Divide o valor da variável pelo valor especificado, arredondando para baixo.\n",
    "* Módulo/Resto e Atribuição (%=): Retorna o resto da divisão entre o valor da variável e o valor especificado.\n",
    "* Exponenciação e Atribuição (**=): Eleva o valor da variável à potência do valor especificado.\n",
    "\n",
    "Diferenças Notáveis com C/C++: \\\n",
    "\\\n",
    "*Em Python, o operador / sempre retorna um número de ponto flutuante, mesmo para divisão entre inteiros. Em C/C++, a divisão entre inteiros resulta em um número inteiro.*\n",
    "*O operador // em Python realiza divisão inteira, retornando um número inteiro arredondado para baixo. Em C/C++, / é usado para divisão inteira, e % para o resto.*\n",
    "*Python utiliza ** para exponenciação, enquanto em C/C++ é necessário usar funções de bibliotecas, como pow().*\n",
    "\n",
    "Essas são algumas das diferenças-chave entre os operadores aritméticos em Python e em C/C++. Essa compreensão é essencial ao migrar ou comparar códigos entre essas linguagens."
   ]
  },
  {
   "cell_type": "markdown",
   "metadata": {
    "slideshow": {
     "slide_type": "notes"
    }
   },
   "source": [
    "Operador de Adição"
   ]
  },
  {
   "cell_type": "code",
   "execution_count": 10,
   "metadata": {},
   "outputs": [
    {
     "name": "stdout",
     "output_type": "stream",
     "text": [
      "Demonstrando operador de adição\n",
      "Valores 2 e 3\n",
      "A soma éigual à 5\n"
     ]
    }
   ],
   "source": [
    "print(\"Demonstrando operador de adição\")\n",
    "a = 2\n",
    "b = 3\n",
    "resultado = a + b\n",
    "print(f\"Valores {a} e {b}\")\n",
    "print(f\"A soma éigual à {resultado}\")"
   ]
  },
  {
   "cell_type": "markdown",
   "metadata": {},
   "source": [
    "Operador de Subtração"
   ]
  },
  {
   "cell_type": "code",
   "execution_count": 11,
   "metadata": {},
   "outputs": [
    {
     "name": "stdout",
     "output_type": "stream",
     "text": [
      "Demonstrando operador de subtração\n",
      "Valores 2 e 3\n",
      "A subtração é igual à -1\n"
     ]
    }
   ],
   "source": [
    "print(\"Demonstrando operador de subtração\")\n",
    "a = 2\n",
    "b = 3\n",
    "resultado = a - b\n",
    "print(f\"Valores {a} e {b}\")\n",
    "print(f\"A subtração é igual à {resultado}\")"
   ]
  },
  {
   "cell_type": "markdown",
   "metadata": {
    "slideshow": {
     "slide_type": "notes"
    }
   },
   "source": [
    "Operador de Multiplicação"
   ]
  },
  {
   "cell_type": "code",
   "execution_count": 12,
   "metadata": {},
   "outputs": [
    {
     "name": "stdout",
     "output_type": "stream",
     "text": [
      "Demonstrando operador de multiplicação\n",
      "Valores 2 e 3\n",
      "A multiplicação é igual à 6\n"
     ]
    }
   ],
   "source": [
    "print(\"Demonstrando operador de multiplicação\")\n",
    "a = 2\n",
    "b = 3\n",
    "resultado = a * b\n",
    "print(f\"Valores {a} e {b}\")\n",
    "print(f\"A multiplicação é igual à {resultado}\")"
   ]
  },
  {
   "cell_type": "markdown",
   "metadata": {},
   "source": [
    "Operador de Divisão"
   ]
  },
  {
   "cell_type": "code",
   "execution_count": 13,
   "metadata": {},
   "outputs": [
    {
     "name": "stdout",
     "output_type": "stream",
     "text": [
      "Demonstrando operador de divisão\n",
      "Valores 2 e 4\n",
      "A divisão é igual à 0.5\n",
      "E a divisão truncada é igual à 0\n"
     ]
    }
   ],
   "source": [
    "print(\"Demonstrando operador de divisão\")\n",
    "a = 2\n",
    "b = 4\n",
    "if b == 0 :\n",
    "     print(\"A divisão por 0 é impossível\")\n",
    "else :\n",
    "    resultado1 = a / b\n",
    "    resultado2 = a // b\n",
    "    print(f\"Valores {a} e {b}\")\n",
    "    print(f\"A divisão é igual à {resultado1}\")\n",
    "    print (f\"E a divisão truncada é igual à {resultado2}\") "
   ]
  },
  {
   "cell_type": "markdown",
   "metadata": {},
   "source": [
    "Demonstração de operador Módulo/Resto"
   ]
  },
  {
   "cell_type": "code",
   "execution_count": 14,
   "metadata": {},
   "outputs": [
    {
     "name": "stdout",
     "output_type": "stream",
     "text": [
      "5 % 3 = 2\n"
     ]
    }
   ],
   "source": [
    "a = 5\n",
    "b = 3\n",
    "resultado = a % b\n",
    "print(f\"{a} % {b} = {resultado}\") "
   ]
  },
  {
   "cell_type": "markdown",
   "metadata": {
    "slideshow": {
     "slide_type": "notes"
    }
   },
   "source": [
    "Demonstração de operador Exponenciação"
   ]
  },
  {
   "cell_type": "code",
   "execution_count": 15,
   "metadata": {},
   "outputs": [
    {
     "name": "stdout",
     "output_type": "stream",
     "text": [
      "5 ** 3 = 125\n"
     ]
    }
   ],
   "source": [
    "a = 5\n",
    "b = 3\n",
    "resultado = a ** b\n",
    "print(f\"{a} ** {b} = {resultado}\")"
   ]
  },
  {
   "cell_type": "markdown",
   "metadata": {},
   "source": [
    "Demonstração de operador Adição e atribuição"
   ]
  },
  {
   "cell_type": "code",
   "execution_count": 16,
   "metadata": {},
   "outputs": [
    {
     "name": "stdout",
     "output_type": "stream",
     "text": [
      "a += 3 => a = 8\n"
     ]
    }
   ],
   "source": [
    "a = 5\n",
    "b = 3\n",
    "a += b\n",
    "print(f\"a += {b} => a = {a}\")"
   ]
  },
  {
   "cell_type": "markdown",
   "metadata": {},
   "source": [
    "Demonstração de operador Subtração e atribuição"
   ]
  },
  {
   "cell_type": "code",
   "execution_count": 17,
   "metadata": {},
   "outputs": [
    {
     "name": "stdout",
     "output_type": "stream",
     "text": [
      "a -= 3 => a = 2\n"
     ]
    }
   ],
   "source": [
    "a = 5\n",
    "b = 3\n",
    "a -= b\n",
    "print(f\"a -= {b} => a = {a}\") "
   ]
  },
  {
   "cell_type": "markdown",
   "metadata": {},
   "source": [
    "Demonstração de operador de Multiplicação e atribuição"
   ]
  },
  {
   "cell_type": "code",
   "execution_count": 18,
   "metadata": {},
   "outputs": [
    {
     "name": "stdout",
     "output_type": "stream",
     "text": [
      "a *= 3 => a = 15\n"
     ]
    }
   ],
   "source": [
    "a = 5\n",
    "b = 3\n",
    "a *= b\n",
    "print(f\"a *= {b} => a = {a}\") "
   ]
  },
  {
   "cell_type": "markdown",
   "metadata": {},
   "source": [
    "Demonstração de operador de Divisão e atribuição"
   ]
  },
  {
   "cell_type": "code",
   "execution_count": 19,
   "metadata": {},
   "outputs": [
    {
     "name": "stdout",
     "output_type": "stream",
     "text": [
      "a /= 3 => a = 1.6666666666666667\n"
     ]
    }
   ],
   "source": [
    "a = 5\n",
    "b = 3\n",
    "a /= b\n",
    "print(f\"a /= {b} => a = {a}\")"
   ]
  },
  {
   "cell_type": "markdown",
   "metadata": {},
   "source": [
    "Demonstração de operador de Divisão inteira e atribuição"
   ]
  },
  {
   "cell_type": "code",
   "execution_count": 20,
   "metadata": {},
   "outputs": [
    {
     "name": "stdout",
     "output_type": "stream",
     "text": [
      "a //= 3 => a = 1\n"
     ]
    }
   ],
   "source": [
    "a = 5\n",
    "b = 3\n",
    "a //= b\n",
    "print(f\"a //= {b} => a = {a}\")"
   ]
  },
  {
   "cell_type": "markdown",
   "metadata": {},
   "source": [
    "Demonstração de operador Módulo/Resto e atribuição"
   ]
  },
  {
   "cell_type": "code",
   "execution_count": 21,
   "metadata": {},
   "outputs": [
    {
     "name": "stdout",
     "output_type": "stream",
     "text": [
      "a %= 3 => a = 2\n"
     ]
    }
   ],
   "source": [
    "a = 5\n",
    "b = 3\n",
    "a %= b\n",
    "print(f\"a %= {b} => a = {a}\") "
   ]
  },
  {
   "cell_type": "markdown",
   "metadata": {},
   "source": [
    "Demonstração de operador de Exponenciação e atribuição"
   ]
  },
  {
   "cell_type": "code",
   "execution_count": 22,
   "metadata": {},
   "outputs": [
    {
     "name": "stdout",
     "output_type": "stream",
     "text": [
      "a **= 3 => a = 125\n",
      "\n",
      "\n"
     ]
    }
   ],
   "source": [
    "a = 5\n",
    "b = 3\n",
    "a **= b\n",
    "print(f\"a **= {b} => a = {a}\\n\\n\") "
   ]
  },
  {
   "cell_type": "markdown",
   "metadata": {},
   "source": [
    "Demonstração de calculo fatorial. \\\n",
    "Fatorando o número 30"
   ]
  },
  {
   "cell_type": "code",
   "execution_count": 23,
   "metadata": {},
   "outputs": [
    {
     "name": "stdout",
     "output_type": "stream",
     "text": [
      "O fatorial de 30 é 265252859812191058636308480000000\n",
      "O maior valor inteiro representável em C/C++ é: 2147483647\n",
      "\n",
      "\n"
     ]
    }
   ],
   "source": [
    "def fatorial(n):\n",
    "    resultado = 1\n",
    "    for i in range(1, n + 1):\n",
    "        resultado *= i\n",
    "    return resultado\n",
    "\n",
    "numero = 30\n",
    "resultado_fatorial = fatorial(numero)\n",
    "print(f\"O fatorial de {numero} é {resultado_fatorial}\")\n",
    "\n",
    "# Maior valor inteiro representável em C/C++\n",
    "max_int_c_cpp = 2**31 - 1\n",
    "print(f'O maior valor inteiro representável em C/C++ é: {max_int_c_cpp}\\n\\n')"
   ]
  },
  {
   "cell_type": "markdown",
   "metadata": {},
   "source": [
    "Demonstração variáveis (numéricas) imutáveis"
   ]
  },
  {
   "cell_type": "code",
   "execution_count": 24,
   "metadata": {},
   "outputs": [
    {
     "name": "stdout",
     "output_type": "stream",
     "text": [
      "Os valores das variáveis 'a' e 'b' são, respectivamente, 10 e 10\n",
      "Após tentativa de alteração, os valores de 'a' e 'b' são, respectivamente, 10 e 15\n"
     ]
    }
   ],
   "source": [
    "a = 10\n",
    "b = a\n",
    "print(f\"Os valores das variáveis 'a' e 'b' são, respectivamente, {a} e {b}\")\n",
    "# Alterando valor de 'b' e verificando efeito sobre 'a'\n",
    "b = 15\n",
    "print(f\"Após tentativa de alteração, os valores de 'a' e 'b' são, respectivamente, {a} e {b}\")"
   ]
  },
  {
   "cell_type": "markdown",
   "metadata": {},
   "source": [
    "Demonstração variáveis (listas) mutáveis"
   ]
  },
  {
   "cell_type": "code",
   "execution_count": 25,
   "metadata": {},
   "outputs": [
    {
     "name": "stdout",
     "output_type": "stream",
     "text": [
      "\n",
      "As listas Lista_A e Lista_B são respectivamente [1, 2, 3] e [1, 2, 3]\n",
      "Após alteração na lista B, os valores de Lista_A e Lista_B são respectivamente [99, 2, 3] e [99, 2, 3]\n"
     ]
    }
   ],
   "source": [
    "lista_a = [1, 2, 3]\n",
    "lista_b = lista_a\n",
    "print(f\"\\nAs listas Lista_A e Lista_B são respectivamente {lista_a} e {lista_b}\")\n",
    "# Alterando valor de 'lista_b' e verificando efeito sobre 'lista_a'\n",
    "lista_b[0] = 99\n",
    "print(f\"Após alteração na lista B, os valores de Lista_A e Lista_B são respectivamente {lista_a} e {lista_b}\")"
   ]
  },
  {
   "cell_type": "markdown",
   "metadata": {},
   "source": [
    "Alguns métodos incorporados específicos de objetos int em Python, são:"
   ]
  },
  {
   "cell_type": "markdown",
   "metadata": {},
   "source": [
    "- bit_length(): Retorna o número de bits necessários para representar o número binário, excluindo o sinal e os zeros à esquerda.\n",
    "- to_bytes(length, byteorder, *, signed=False): Converte o número para uma sequência de bytes.\n",
    "- from_bytes(bytes, byteorder, *, signed=False): Converte uma sequência de bytes de volta para um número.\n",
    "- Além destes, pode-se obter mais informações utilizando o comando abaixo no terminal:\n",
    "\n",
    "```python    \n",
    "python -c \"help(int)\"\n",
    "```"
   ]
  },
  {
   "cell_type": "markdown",
   "metadata": {},
   "source": [
    "Usando função dir para obter atributos e métodos de um objeto"
   ]
  },
  {
   "cell_type": "code",
   "execution_count": 26,
   "metadata": {},
   "outputs": [
    {
     "name": "stdout",
     "output_type": "stream",
     "text": [
      "A lista de atributos de métodos para tipo inteiro: \n"
     ]
    },
    {
     "data": {
      "text/plain": [
       "['__abs__',\n",
       " '__add__',\n",
       " '__and__',\n",
       " '__bool__',\n",
       " '__ceil__',\n",
       " '__class__',\n",
       " '__delattr__',\n",
       " '__dir__',\n",
       " '__divmod__',\n",
       " '__doc__',\n",
       " '__eq__',\n",
       " '__float__',\n",
       " '__floor__',\n",
       " '__floordiv__',\n",
       " '__format__',\n",
       " '__ge__',\n",
       " '__getattribute__',\n",
       " '__getnewargs__',\n",
       " '__getstate__',\n",
       " '__gt__',\n",
       " '__hash__',\n",
       " '__index__',\n",
       " '__init__',\n",
       " '__init_subclass__',\n",
       " '__int__',\n",
       " '__invert__',\n",
       " '__le__',\n",
       " '__lshift__',\n",
       " '__lt__',\n",
       " '__mod__',\n",
       " '__mul__',\n",
       " '__ne__',\n",
       " '__neg__',\n",
       " '__new__',\n",
       " '__or__',\n",
       " '__pos__',\n",
       " '__pow__',\n",
       " '__radd__',\n",
       " '__rand__',\n",
       " '__rdivmod__',\n",
       " '__reduce__',\n",
       " '__reduce_ex__',\n",
       " '__repr__',\n",
       " '__rfloordiv__',\n",
       " '__rlshift__',\n",
       " '__rmod__',\n",
       " '__rmul__',\n",
       " '__ror__',\n",
       " '__round__',\n",
       " '__rpow__',\n",
       " '__rrshift__',\n",
       " '__rshift__',\n",
       " '__rsub__',\n",
       " '__rtruediv__',\n",
       " '__rxor__',\n",
       " '__setattr__',\n",
       " '__sizeof__',\n",
       " '__str__',\n",
       " '__sub__',\n",
       " '__subclasshook__',\n",
       " '__truediv__',\n",
       " '__trunc__',\n",
       " '__xor__',\n",
       " 'as_integer_ratio',\n",
       " 'bit_count',\n",
       " 'bit_length',\n",
       " 'conjugate',\n",
       " 'denominator',\n",
       " 'from_bytes',\n",
       " 'imag',\n",
       " 'numerator',\n",
       " 'real',\n",
       " 'to_bytes']"
      ]
     },
     "execution_count": 26,
     "metadata": {},
     "output_type": "execute_result"
    }
   ],
   "source": [
    "print(\"A lista de atributos de métodos para tipo inteiro: \")\n",
    "dir(int)"
   ]
  },
  {
   "cell_type": "markdown",
   "metadata": {},
   "source": [
    "### Questão 3. Escreva um programa em Python que: "
   ]
  },
  {
   "cell_type": "markdown",
   "metadata": {},
   "source": [
    "- Imprima na tela, utilizando print, cada um dos caracteres numéricos e seu correspondente código numérico. Pesquise como modificar o comportamento  do print para imprimir como caractere e como número.\n",
    "Exemplo:‘0’ - 48\n",
    "‘1’ - 49\n",
    "    …\n",
    "‘9’ - 57\n",
    "- Modifique o exercício anterior para que a saída imprima também o código numérico em octal e em hexadecimal.\n",
    "- Acrescente ao código do exercício anterior a possibilidade de ler um caractere qualquer e imprima no mesmo formato do inciso anterior.\n",
    "- Pesquise como ler um valor da entrada padrão.\n",
    "- Pesquise como trabalha Python os caracteres especiais, ‘ç’ e ‘ã’ por exemplo. Acrescente no código do exercício anterior um exemplo que demonstra como usar este recurso."
   ]
  },
  {
   "cell_type": "markdown",
   "metadata": {},
   "source": [
    "##### Demonstração:"
   ]
  },
  {
   "cell_type": "code",
   "execution_count": 27,
   "metadata": {},
   "outputs": [
    {
     "name": "stdout",
     "output_type": "stream",
     "text": [
      "Imprimindo caracteres numéricos:\n",
      "'0' - 48\n",
      "   Octal: 0o60\n",
      "   Hexadecimal: 0x30\n",
      "\n",
      "'1' - 49\n",
      "   Octal: 0o61\n",
      "   Hexadecimal: 0x31\n",
      "\n",
      "'2' - 50\n",
      "   Octal: 0o62\n",
      "   Hexadecimal: 0x32\n",
      "\n",
      "'3' - 51\n",
      "   Octal: 0o63\n",
      "   Hexadecimal: 0x33\n",
      "\n",
      "'4' - 52\n",
      "   Octal: 0o64\n",
      "   Hexadecimal: 0x34\n",
      "\n",
      "'5' - 53\n",
      "   Octal: 0o65\n",
      "   Hexadecimal: 0x35\n",
      "\n",
      "'6' - 54\n",
      "   Octal: 0o66\n",
      "   Hexadecimal: 0x36\n",
      "\n",
      "'7' - 55\n",
      "   Octal: 0o67\n",
      "   Hexadecimal: 0x37\n",
      "\n",
      "'8' - 56\n",
      "   Octal: 0o70\n",
      "   Hexadecimal: 0x38\n",
      "\n",
      "'9' - 57\n",
      "   Octal: 0o71\n",
      "   Hexadecimal: 0x39\n",
      "\n",
      "\n",
      "Imprimindo o caractere digitado:\n",
      "'ç' - 231\n",
      "   Octal: 0o347\n",
      "   Hexadecimal: 0xe7\n"
     ]
    }
   ],
   "source": [
    "def print_numeric_characters():\n",
    "    for i in range(10):\n",
    "        char = str(i)\n",
    "        print(f\"'{char}' - {ord(char)}\")\n",
    "        print(f\"   Octal: {oct(ord(char))}\")\n",
    "        print(f\"   Hexadecimal: {hex(ord(char))}\")\n",
    "        print()\n",
    "\n",
    "def print_custom_character(char):\n",
    "    print(f\"'{char}' - {ord(char)}\")\n",
    "    print(f\"   Octal: {oct(ord(char))}\")\n",
    "    print(f\"   Hexadecimal: {hex(ord(char))}\")\n",
    "    \n",
    "def main():\n",
    "    print(\"Imprimindo caracteres numéricos:\")\n",
    "    print_numeric_characters()\n",
    "\n",
    "    user_input = input(\"\\nDigite um caractere: \")\n",
    "    print(\"\\nImprimindo o caractere digitado:\")\n",
    "    print_custom_character(user_input)\n",
    "\n",
    "if __name__ == \"__main__\":\n",
    "    main()"
   ]
  },
  {
   "cell_type": "code",
   "execution_count": 28,
   "metadata": {},
   "outputs": [
    {
     "name": "stdout",
     "output_type": "stream",
     "text": [
      "\n",
      "Exemplo de caracteres especiais:\n",
      "'ç' - 231\n",
      "   Octal: 0o347\n",
      "   Hexadecimal: 0xe7\n",
      "'ã' - 227\n",
      "   Octal: 0o343\n",
      "   Hexadecimal: 0xe3\n"
     ]
    }
   ],
   "source": [
    "def print_custom_character(char):\n",
    "    print(f\"'{char}' - {ord(char)}\")\n",
    "    print(f\"   Octal: {oct(ord(char))}\")\n",
    "    print(f\"   Hexadecimal: {hex(ord(char))}\")\n",
    "    \n",
    "def main():\n",
    "    # Exemplo de caracteres especiais\n",
    "    special_char1 = 'ç'\n",
    "    special_char2 = 'ã'\n",
    "    print(\"\\nExemplo de caracteres especiais:\")\n",
    "    print_custom_character(special_char1)\n",
    "    print_custom_character(special_char2)\n",
    "\n",
    "if __name__ == \"__main__\":\n",
    "    main()"
   ]
  },
  {
   "cell_type": "markdown",
   "metadata": {},
   "source": [
    "### Questão 4. Crie um exemplo onde:"
   ]
  },
  {
   "cell_type": "markdown",
   "metadata": {},
   "source": [
    "- Declare uma variável nome atribuindo a ela seu nome completo;\n",
    "- Pesquise por funcionalidades já implementadas nas strings e separeem duas variáveis novas seu nome do seu sobrenome;\n",
    "- Verifique qual das duas novas variáveis antecede a outra na ordemalfabética;\n",
    "- Verifique a quantidade de caracteres de cada uma das novas variáveis;\n",
    "- Verifique se seu nome é uma palíndromo;"
   ]
  },
  {
   "cell_type": "code",
   "execution_count": 29,
   "metadata": {},
   "outputs": [
    {
     "name": "stdout",
     "output_type": "stream",
     "text": [
      "Fonseca antecede Matheus na ordem alfabética.\n",
      "Quantidade de caracteres em 'nome': 7\n",
      "Quantidade de caracteres em 'sobrenome': 7\n",
      "Matheus não é um palíndromo.\n"
     ]
    }
   ],
   "source": [
    "def manipulaString(nome_completo):\n",
    "    # Pesquise por funcionalidades já implementadas nas strings\n",
    "    # e separe em duas variáveis novas seu nome do seu sobrenome\n",
    "    nome, sobrenome = nome_completo.split(maxsplit=1)\n",
    "\n",
    "    # Verifique qual das duas novas variáveis antecede a outra na ordem alfabética\n",
    "    if nome < sobrenome:\n",
    "        print(f\"{nome} antecede {sobrenome} na ordem alfabética.\")\n",
    "    else:\n",
    "        print(f\"{sobrenome} antecede {nome} na ordem alfabética.\")\n",
    "\n",
    "    # Verifique a quantidade de caracteres de cada uma das novas variáveis\n",
    "    print(f\"Quantidade de caracteres em 'nome': {len(nome)}\")\n",
    "    print(f\"Quantidade de caracteres em 'sobrenome': {len(sobrenome)}\")\n",
    "\n",
    "    # Verifique se seu nome é uma palíndromo\n",
    "    nome_invertido = nome[::-1]\n",
    "    if nome.lower() == nome_invertido.lower():\n",
    "        print(f\"{nome} é um palíndromo.\")\n",
    "    else:\n",
    "        print(f\"{nome} não é um palíndromo.\")\n",
    "def main():\n",
    "    manipulaString('Matheus Fonseca')\n",
    "\n",
    "if __name__ == \"__main__\":\n",
    "    main()"
   ]
  },
  {
   "cell_type": "markdown",
   "metadata": {},
   "source": [
    "### Questão 5. Manipulação de variáveis de ponto flutuante, explorando as características e os limites. Durante a aula foi apresentado o tipo de dado que permite representar um subconjunto dos números de ponto flutuante."
   ]
  },
  {
   "cell_type": "markdown",
   "metadata": {},
   "source": [
    "Sobre estes tipos de dados:\n",
    "- Demonstre como funcionam os operadores aritméticos e aritméticos\n",
    "compostos em Python;\n",
    "- Utilizando o operador de exponenciação mostre qual a maior e a menor potência de 2 que pode ser representada com variáveis de ponto flutuante.\n",
    "- As variáveis numéricas são imutáveis. Demonstre com exemplos as implicações desta afirmação;\n",
    "- Verifique quais métodos estão disponíveis para as variáveis de ponto flutuante;"
   ]
  },
  {
   "cell_type": "code",
   "execution_count": 30,
   "metadata": {},
   "outputs": [
    {
     "name": "stdout",
     "output_type": "stream",
     "text": [
      "\n",
      "Operadores aritméticos\n",
      "\n",
      "Soma: 5.140000000000001\n",
      "Subtração: 1.1400000000000001\n",
      "Multiplicação: 6.28\n",
      "Divisão: 1.57\n",
      "Módulo: 1.1400000000000001\n",
      "num1 após incremento: 4.140000000000001\n",
      "num2 elevado ao quadrado: 4.0\n",
      "\n",
      "Operacoes de exponenciacao\n",
      "\n",
      "Maior potência de 2 representável: 8.98846567431158e+307\n",
      "Menor potência de 2 representável: 2.2250738585072014e-308\n",
      "\n",
      "Imutabilidade de variaveis numericas\n",
      "\n",
      "Valor original: 10.0\n",
      "Valor após tentativa de modificação: 10.0\n",
      "\n",
      "Metodos disponíveis para variaveis numericas\n",
      "\n",
      "Valor original: 3.14\n",
      "Parte inteira: 3\n",
      "Arredondamento para duas casas decimais: 3.14\n"
     ]
    }
   ],
   "source": [
    "def operadoresAritimeticos():\n",
    "    print(\"\\nOperadores aritméticos\\n\")\n",
    "    # Declaração de variáveis de ponto flutuante\n",
    "    num1 = 3.14\n",
    "    num2 = 2.0\n",
    "\n",
    "    # Operadores aritméticos\n",
    "    soma = num1 + num2\n",
    "    subtracao = num1 - num2\n",
    "    multiplicacao = num1 * num2\n",
    "    divisao = num1 / num2\n",
    "    modulo = num1 % num2\n",
    "\n",
    "    # Impressão dos resultados\n",
    "    print(f\"Soma: {soma}\")\n",
    "    print(f\"Subtração: {subtracao}\")\n",
    "    print(f\"Multiplicação: {multiplicacao}\")\n",
    "    print(f\"Divisão: {divisao}\")\n",
    "    print(f\"Módulo: {modulo}\")\n",
    "\n",
    "    # Operadores aritméticos compostos\n",
    "    num1 += 1\n",
    "    num2 **= 2\n",
    "\n",
    "    # Impressão dos resultados após os operadores compostos\n",
    "    print(f\"num1 após incremento: {num1}\")\n",
    "    print(f\"num2 elevado ao quadrado: {num2}\")\n",
    "\n",
    "def exponenciacao():\n",
    "    print(\"\\nOperacoes de exponenciacao\\n\")\n",
    "   # Maior potência de 2 representável\n",
    "    maior_potencia = 2.0 ** 1023\n",
    "    print(f\"Maior potência de 2 representável: {maior_potencia}\")\n",
    "\n",
    "    # Menor potência de 2 representável\n",
    "    menor_potencia = 2.0 ** -1022\n",
    "    print(f\"Menor potência de 2 representável: {menor_potencia}\")\n",
    "\n",
    "def imutabilidade_de_variaveis_numericas():\n",
    "    print(\"\\nImutabilidade de variaveis numericas\\n\")\n",
    "    num = 10.0\n",
    "    print(f\"Valor original: {num}\")\n",
    "\n",
    "    # Tentativa de modificar o valor (isso resultará em um erro)\n",
    "    # num += 5  # Remova o comentário desta linha para ver o erro\n",
    "\n",
    "    print(f\"Valor após tentativa de modificação: {num}\")\n",
    "\n",
    "def metodos_disponiveis_para_variaveis_numericas():\n",
    "    print(\"\\nMetodos disponíveis para variaveis numericas\\n\")\n",
    "    num = 3.14\n",
    "\n",
    "    # Métodos disponíveis para variáveis de ponto flutuante\n",
    "    print(f\"Valor original: {num}\")\n",
    "    print(f\"Parte inteira: {num.__int__()}\")\n",
    "    print(f\"Arredondamento para duas casas decimais: {num.__round__(2)}\")\n",
    "\n",
    "def main():\n",
    "    operadoresAritimeticos()\n",
    "    exponenciacao()\n",
    "    imutabilidade_de_variaveis_numericas()\n",
    "    metodos_disponiveis_para_variaveis_numericas()\n",
    "\n",
    "if __name__ == \"__main__\":\n",
    "    main()"
   ]
  },
  {
   "cell_type": "markdown",
   "metadata": {},
   "source": [
    "### Questão 6. Manipulando listas"
   ]
  },
  {
   "cell_type": "markdown",
   "metadata": {},
   "source": [
    "- Descubra qual o signo de um usuário de acordo com seu ano de nascimento."
   ]
  },
  {
   "cell_type": "code",
   "execution_count": 31,
   "metadata": {},
   "outputs": [
    {
     "name": "stdout",
     "output_type": "stream",
     "text": [
      "Signo:  Cão\n"
     ]
    }
   ],
   "source": [
    "def chines_zodiaco_by_year(ano_nascimento):\n",
    "    lista_de_siginos= [\n",
    "        \"Macaco\",\n",
    "        \"Galo\",\n",
    "        \"Cão\",\n",
    "        \"Porco\",\n",
    "        \"Rato\",\n",
    "        \"Boi\",\n",
    "        \"Tigre\",\n",
    "        \"Coelho\",\n",
    "        \"Dragão\",\n",
    "        \"Serpente\",\n",
    "        \"Cavalo\",\n",
    "        \"Carneiro\",\n",
    "    ]\n",
    "\n",
    "    return lista_de_siginos[ano_nascimento % 12]\n",
    "\n",
    "def main():\n",
    "    print(\"Signo: \", chines_zodiaco_by_year(1994))\n",
    "\n",
    "\n",
    "if __name__ == \"__main__\":\n",
    "    main()"
   ]
  }
 ],
 "metadata": {
  "kernelspec": {
   "display_name": "Python 3",
   "language": "python",
   "name": "python3"
  },
  "language_info": {
   "codemirror_mode": {
    "name": "ipython",
    "version": 3
   },
   "file_extension": ".py",
   "mimetype": "text/x-python",
   "name": "python",
   "nbconvert_exporter": "python",
   "pygments_lexer": "ipython3",
   "version": "3.11.5"
  }
 },
 "nbformat": 4,
 "nbformat_minor": 2
}
